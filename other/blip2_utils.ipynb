{
 "cells": [
  {
   "cell_type": "markdown",
   "metadata": {},
   "source": [
    "#### Large RAM is required to load the larger models. Running on GPU can optimize inference speed."
   ]
  },
  {
   "cell_type": "code",
   "execution_count": null,
   "metadata": {},
   "outputs": [],
   "source": [
    "import sys\n",
    "!pip3 install salesforce-lavis"
   ]
  },
  {
   "cell_type": "code",
   "execution_count": null,
   "metadata": {},
   "outputs": [],
   "source": [
    "import torch\n",
    "from PIL import Image\n",
    "import requests\n",
    "from lavis.models import load_model_and_preprocess"
   ]
  },
  {
   "cell_type": "markdown",
   "metadata": {},
   "source": [
    "#### Load an example image"
   ]
  },
  {
   "cell_type": "code",
   "execution_count": null,
   "metadata": {},
   "outputs": [],
   "source": [
    "img_url = 'https://storage.googleapis.com/sfr-vision-language-research/LAVIS/assets/merlion.png' \n",
    "raw_image = Image.open(requests.get(img_url, stream=True).raw).convert('RGB')   \n",
    "display(raw_image.resize((596, 437)))"
   ]
  },
  {
   "cell_type": "code",
   "execution_count": null,
   "metadata": {},
   "outputs": [],
   "source": [
    "# setup device to use\n",
    "device = torch.device(\"cuda:7\") if torch.cuda.is_available() else \"cpu\""
   ]
  },
  {
   "cell_type": "markdown",
   "metadata": {},
   "source": [
    "#### Load pretrained/finetuned BLIP2 captioning model"
   ]
  },
  {
   "cell_type": "code",
   "execution_count": null,
   "metadata": {},
   "outputs": [],
   "source": [
    "# we associate a model with its preprocessors to make it easier for inference.\n",
    "model, vis_processors, _ = load_model_and_preprocess(\n",
    "    name=\"blip2_t5\", model_type=\"pretrain_flant5xl\", is_eval=True, device=device\n",
    ")\n",
    "vis_processors.keys()"
   ]
  },
  {
   "cell_type": "markdown",
   "metadata": {},
   "source": [
    "#### prepare the image as model input using the associated processors"
   ]
  },
  {
   "cell_type": "code",
   "execution_count": null,
   "metadata": {},
   "outputs": [],
   "source": [
    "image = vis_processors[\"eval\"](raw_image).unsqueeze(0).to(device)"
   ]
  },
  {
   "cell_type": "markdown",
   "metadata": {},
   "source": [
    "#### generate caption using beam search"
   ]
  },
  {
   "cell_type": "code",
   "execution_count": null,
   "metadata": {},
   "outputs": [],
   "source": [
    "model.generate({\"image\": image})"
   ]
  },
  {
   "cell_type": "markdown",
   "metadata": {},
   "source": [
    "#### generate multiple captions using nucleus sampling"
   ]
  },
  {
   "cell_type": "code",
   "execution_count": null,
   "metadata": {},
   "outputs": [],
   "source": [
    "# due to the non-determinstic nature of necleus sampling, you may get different captions.\n",
    "model.generate({\"image\": image}, use_nucleus_sampling=True, num_captions=3)"
   ]
  },
  {
   "cell_type": "markdown",
   "metadata": {},
   "source": [
    "#### instructed zero-shot vision-to-language generation"
   ]
  },
  {
   "cell_type": "code",
   "execution_count": null,
   "metadata": {},
   "outputs": [],
   "source": [
    "model.generate({\"image\": image, \"prompt\": \"Question: which city is this? Answer:\"})"
   ]
  },
  {
   "cell_type": "code",
   "execution_count": null,
   "metadata": {},
   "outputs": [],
   "source": [
    "model.generate({\n",
    "    \"image\": image,\n",
    "    \"prompt\": \"Question: which city is this? Answer: singapore. Question: why?\"})"
   ]
  },
  {
   "cell_type": "code",
   "execution_count": null,
   "metadata": {},
   "outputs": [],
   "source": [
    "context = [\n",
    "    (\"which city is this?\", \"singapore\"),\n",
    "    (\"why?\", \"it has a statue of a merlion\"),\n",
    "]\n",
    "question = \"where is the name merlion coming from?\"\n",
    "template = \"Question: {} Answer: {}.\"\n",
    "\n",
    "prompt = \" \".join([template.format(context[i][0], context[i][1]) for i in range(len(context))]) + \" Question: \" + question + \" Answer:\"\n",
    "\n",
    "print(prompt)"
   ]
  },
  {
   "cell_type": "code",
   "execution_count": null,
   "metadata": {},
   "outputs": [],
   "source": [
    "model.generate(\n",
    "    {\n",
    "    \"image\": image,\n",
    "    \"prompt\": prompt\n",
    "    },\n",
    "    use_nucleus_sampling=False,\n",
    ")"
   ]
  },
  {
   "cell_type": "code",
   "execution_count": null,
   "metadata": {},
   "outputs": [],
   "source": [
    "def get_files_sorted_by_number(folder_path):\n",
    "    files = [f for f in os.listdir(folder_path) if os.path.isfile(os.path.join(folder_path, f))]\n",
    "    sorted_files = sorted(files, key=lambda x: int(x.split('_')[1].split('.')[0]))\n",
    "    return sorted_files"
   ]
  },
  {
   "cell_type": "code",
   "execution_count": null,
   "metadata": {},
   "outputs": [],
   "source": [
    "import os\n",
    "\n",
    "def get_subfolders(folder_path):\n",
    "    subfolders = [f for f in os.listdir(folder_path) if os.path.isdir(os.path.join(folder_path, f))]\n",
    "    return subfolders"
   ]
  },
  {
   "cell_type": "code",
   "execution_count": null,
   "metadata": {},
   "outputs": [],
   "source": [
    "folder_path = ''\n",
    "subfolders_list = get_subfolders(folder_path)\n",
    "print(subfolders_list)\n",
    "print(len(subfolders_list))"
   ]
  },
  {
   "cell_type": "code",
   "execution_count": null,
   "metadata": {},
   "outputs": [],
   "source": [
    "\n",
    "import csv\n",
    "base_path = ''\n",
    "csv_file_path = ''\n",
    "\n",
    "data_list = [\n",
    "    ['video_name','descirbe_list_1']\n",
    "]\n",
    "\n",
    "for subfolder in subfolders_list:\n",
    "    print(subfolder)\n",
    "    files = get_files_sorted_by_number(base_path + '/' + subfolder)\n",
    "    print(files)\n",
    "\n",
    "    describe_list_1 = []\n",
    "    describe_list_2 = []\n",
    "    \n",
    "    for f in files:\n",
    "        image_path  = base_path + '/' + subfolder + '/' + f\n",
    "        # print(image_path)\n",
    "        \n",
    "        raw_image = Image.open(image_path).convert(\"RGB\")\n",
    "        image1 = vis_processors[\"eval\"](raw_image).unsqueeze(0).to(device)\n",
    "        # print(type(image1))\n",
    "        data = model.generate({\n",
    "            \"image\": image1,\n",
    "            \"prompt\": \"Question: Please provide a detailed description of the content in the picture, taking into consideration the scene information and the actions and behavior of the people depicted in the image.\"})        \n",
    "        describe_list_1.append(data[0])\n",
    "    print(describe_list_1)\n",
    "    print(set(describe_list_1))\n",
    "    data_list.append([subfolder,describe_list_1,set(describe_list_1)])\n",
    "    # break\n",
    "with open(csv_file_path, 'w', newline='', encoding='utf-8') as csv_file:\n",
    "    csv_writer = csv.writer(csv_file)\n",
    "    for row in data_list:\n",
    "        csv_writer.writerow(row)\n",
    "\n",
    "print(\"数据已成功写入CSV文件。\")"
   ]
  },
  {
   "cell_type": "code",
   "execution_count": null,
   "metadata": {},
   "outputs": [],
   "source": [
    "\"\"\" =========================== Filter =========================          \"\"\""
   ]
  },
  {
   "cell_type": "code",
   "execution_count": null,
   "metadata": {},
   "outputs": [],
   "source": [
    "from collections import OrderedDict\n",
    "\n",
    "def remove_duplicates_and_preserve_order(input_list):\n",
    "    unique_sentences = OrderedDict()\n",
    "\n",
    "    for sentence in input_list:\n",
    "        unique_sentences[sentence] = None\n",
    "\n",
    "    return list(unique_sentences.keys())"
   ]
  },
  {
   "cell_type": "code",
   "execution_count": null,
   "metadata": {},
   "outputs": [],
   "source": [
    "csv_path = ''\n",
    "filter_csv_path = ''"
   ]
  },
  {
   "cell_type": "code",
   "execution_count": null,
   "metadata": {},
   "outputs": [],
   "source": [
    "import csv\n",
    "import sys\n",
    "csv.field_size_limit(sys.maxsize)\n",
    "# 打开CSV文件\n",
    "with open(csv_path, 'r', newline='', encoding='utf-8') as csvfile:\n",
    "    reader = csv.reader(csvfile)\n",
    "    \n",
    "    # 读取CSV文件的第一行，获取列标题\n",
    "    header = next(reader)\n",
    "    \n",
    "    # 选择您想要提取的列的索引（假设您想要提取第二列和第四列）\n",
    "    column_indices = [0,1,2]  # 这里使用索引从0开始\n",
    "    \n",
    "    # 创建一个字典来存储按列提取的数据\n",
    "    extracted_data = {header[i]: [] for i in column_indices}\n",
    "    \n",
    "    # 遍历CSV文件中的每一行，并按列提取数据\n",
    "    for row in reader:\n",
    "        for i in column_indices:\n",
    "            extracted_data[header[i]].append(row[i])\n",
    "# 打印按列提取的数据\n",
    "print(len(extracted_data['video_name']))\n",
    "video_names = []\n",
    "idx1_s = []\n",
    "idx2_s = []\n",
    "for i in range(0,len(extracted_data['video_name'])):\n",
    "    video_name = extracted_data['video_name'][i]\n",
    "    idx1 = extracted_data['descirbe_list_1'][i]\n",
    "\n",
    "    idx1_list = idx1.split('\\'')\n",
    "    # print(idx1_list)\n",
    "    idx11 = []\n",
    "    for j in idx1_list:\n",
    "        if len(j) <= 3:\n",
    "            continue\n",
    "        idx11.append(j)\n",
    "    n_idx1 = remove_duplicates_and_preserve_order(idx11)\n",
    "\n",
    "    video_names.append(video_name)\n",
    "    idx1_s.append(n_idx1)\n",
    "    # break\n",
    "print(video_names)\n",
    "print(idx1_s[2])\n",
    "print(len(idx1_s))"
   ]
  },
  {
   "cell_type": "code",
   "execution_count": null,
   "metadata": {},
   "outputs": [],
   "source": [
    "\n",
    "with open('','w') as ta:\n",
    "    for i in range(0,len(video_names)):\n",
    "        name = video_names[i]\n",
    "        des_list = idx1_s[i]\n",
    "        total_des = ''\n",
    "        for des in des_list:\n",
    "            total_des = total_des + des + '.'\n",
    "        print(total_des)\n",
    "        ta.writelines(name +' '+ total_des + '\\n')"
   ]
  },
  {
   "cell_type": "code",
   "execution_count": null,
   "metadata": {},
   "outputs": [],
   "source": [
    "names_list = []\n",
    "total_des_list = []\n",
    "for i in range(0,len(video_names)):\n",
    "    name = video_names[i]\n",
    "    des_list = idx1_s[i]\n",
    "    total_des = ''\n",
    "    for des in des_list:\n",
    "        total_des = total_des + des + '.'\n",
    "    names_list.append(name)\n",
    "    total_des_list.append(total_des)\n",
    "\n",
    "print(names_list)\n",
    "print(total_des_list)"
   ]
  },
  {
   "cell_type": "code",
   "execution_count": null,
   "metadata": {},
   "outputs": [],
   "source": [
    "new_names_list = []\n",
    "new_total_des_list = []\n",
    "for i in range(0,len(names_list)):\n",
    "    name = names_list[i]\n",
    "    des = total_des_list[i]\n",
    "    for j in range(0,5):\n",
    "        n = name + '_' + str(j)\n",
    "        new_names_list.append(n)\n",
    "        new_total_des_list.append(des)\n",
    "\n",
    "print(new_names_list)\n",
    "print(new_total_des_list)\n",
    "print(len(new_names_list))\n",
    "print(len(new_total_des_list))\n"
   ]
  },
  {
   "cell_type": "code",
   "execution_count": null,
   "metadata": {},
   "outputs": [],
   "source": [
    "import csv\n",
    "\n",
    "# 假设这是你的两个列表\n",
    "# new_name_list = ['name1', 'name2', 'name3']\n",
    "# new_total_des_list = ['description1', 'description2', 'description3']\n",
    "\n",
    "# 确保两个列表长度相同\n",
    "if len(new_names_list) == len(new_total_des_list):\n",
    "    # 创建一个字典，将两个列表对应的元素作为键值对\n",
    "    combined_dict = dict(zip(new_names_list, new_total_des_list))\n",
    "    \n",
    "    # 指定CSV文件的名称\n",
    "    csv_file = \"\"\n",
    "\n",
    "    # 打开文件进行写入\n",
    "    with open(csv_file, mode='w', newline='', encoding='utf-8') as file:\n",
    "        writer = csv.writer(file)\n",
    "        # 写入标题行\n",
    "        writer.writerow(['Name', 'Description'])\n",
    "        # 写入数据\n",
    "        for key, value in combined_dict.items():\n",
    "            writer.writerow([key, value])\n",
    "    print(f\"file '{csv_file}' success。\")\n",
    "else:\n",
    "    print(\"no equal\")\n"
   ]
  },
  {
   "cell_type": "code",
   "execution_count": null,
   "metadata": {},
   "outputs": [],
   "source": []
  }
 ],
 "metadata": {
  "kernelspec": {
   "display_name": "Python 3 (ipykernel)",
   "language": "python",
   "name": "python3"
  },
  "language_info": {
   "codemirror_mode": {
    "name": "ipython",
    "version": 3
   },
   "file_extension": ".py",
   "mimetype": "text/x-python",
   "name": "python",
   "nbconvert_exporter": "python",
   "pygments_lexer": "ipython3",
   "version": "3.8.13"
  },
  "vscode": {
   "interpreter": {
    "hash": "d4d1e4263499bec80672ea0156c357c1ee493ec2b1c70f0acce89fc37c4a6abe"
   }
  }
 },
 "nbformat": 4,
 "nbformat_minor": 2
}
