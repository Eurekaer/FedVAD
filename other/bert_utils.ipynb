{
 "cells": [
  {
   "cell_type": "code",
   "execution_count": null,
   "metadata": {},
   "outputs": [],
   "source": [
    "import numpy as np\n",
    "import pandas as pd\n",
    "import torch\n",
    "import torch.nn as nn\n",
    "from sklearn.model_selection import train_test_split\n",
    "from sklearn.metrics import classification_report\n",
    "from transformers import AutoModel, BertTokenizerFast\n",
    "\n",
    "# specify GPU\n",
    "device = torch.device(\"cuda\")\n",
    "# TRANSFORMERS_OFFLINE=1\n",
    "bert = AutoModel.from_pretrained('bert-base-uncased')\n",
    "# Load the BERT tokenizer\n",
    "tokenizer = BertTokenizerFast.from_pretrained('bert-base-uncased')\n"
   ]
  },
  {
   "cell_type": "code",
   "execution_count": null,
   "metadata": {},
   "outputs": [],
   "source": [
    "inputs = tokenizer([\"hello world\"], return_tensors=\"pt\",padding=True)  # \"pt\"表示\"pytorch\"\n",
    "outputs = bert(**inputs)\n",
    "print(inputs)\n",
    "print(outputs[0].shape)\n",
    "print(outputs[1].shape)"
   ]
  },
  {
   "cell_type": "code",
   "execution_count": null,
   "metadata": {},
   "outputs": [],
   "source": [
    "import csv\n",
    "\n",
    "# 创建一个空字典来存储数据\n",
    "data_dict = {}\n",
    "# 使用with语句打开csv文件\n",
    "with open('', 'r', encoding='utf-8') as csvfile:\n",
    "    reader = csv.DictReader(csvfile)\n",
    "    for row in reader:\n",
    "        name = row['name']\n",
    "        sentence = row['sentence']\n",
    "        data_dict[name] = sentence\n",
    "print(data_dict['RoadAccidents061_x264'])"
   ]
  },
  {
   "cell_type": "code",
   "execution_count": null,
   "metadata": {},
   "outputs": [],
   "source": [
    "import pickle as pk\n",
    "\n",
    "feature_list = {}\n",
    "\n",
    "for dd in data_dict:\n",
    "    name = dd\n",
    "    sentence = data_dict[name]\n",
    "    print(name)\n",
    "    print(sentence)\n",
    "    print(type(sentence))\n",
    "    inputs = tokenizer(sentence, return_tensors=\"pt\",padding=True)  # \"pt\"表示\"pytorch\"\n",
    "    outputs = bert(**inputs)\n",
    "    print(inputs)\n",
    "    print(outputs[0].shape)\n",
    "    print(outputs[1].shape)    \n",
    "    feature = outputs[1]\n",
    "    feature_list[name] = feature\n",
    "    break"
   ]
  },
  {
   "cell_type": "code",
   "execution_count": null,
   "metadata": {},
   "outputs": [],
   "source": [
    "import pickle as pk\n",
    "\n",
    "feature_list = {}\n",
    "\n",
    "for dd in data_dict:\n",
    "    name = dd\n",
    "    sentence = data_dict[name]\n",
    "    print(name)\n",
    "    print(sentence)\n",
    "\n",
    "    inputs = tokenizer(sentence, return_tensors=\"pt\",padding=True)  # \"pt\"表示\"pytorch\"\n",
    "    outputs = bert(**inputs)\n",
    "    print(inputs)\n",
    "    print(outputs[0].shape)\n",
    "    print(outputs[1].shape)    \n",
    "\n",
    "    feature = outputs[1]\n",
    "    feature_list[name] = feature\n",
    "    # break\n",
    "\n",
    "print(feature_list)\n",
    "with open('','wb') as feature:\n",
    "    pk.dump(feature_list,feature)"
   ]
  },
  {
   "cell_type": "code",
   "execution_count": null,
   "metadata": {},
   "outputs": [],
   "source": [
    "import csv\n",
    "\n",
    "# 创建一个空字典来存储数据\n",
    "data_dict = {}\n",
    "print(\"===\")\n",
    "# 使用with语句打开csv文件\n",
    "with open('', 'r', encoding='utf-8') as csvfile:\n",
    "    reader = csv.DictReader(csvfile)\n",
    "    for row in reader:\n",
    "        name = row['Name']\n",
    "        name = name[:-1] + '_' + name[-1]\n",
    "        sentence = row['Description']\n",
    "        data_dict[name] = sentence\n",
    "        # break\n",
    "# print(data_dict['RoadAccidents061_x264'])\n"
   ]
  },
  {
   "cell_type": "code",
   "execution_count": null,
   "metadata": {},
   "outputs": [],
   "source": [
    "print(data_dict)"
   ]
  },
  {
   "cell_type": "code",
   "execution_count": null,
   "metadata": {},
   "outputs": [],
   "source": [
    "import pickle as pk\n",
    "\n",
    "\n",
    "feature_list = {}\n",
    "\n",
    "for dd in data_dict:\n",
    "    name = dd\n",
    "    sentence = data_dict[name]\n",
    "    MAX_LENGTH = 512\n",
    "    print(\"sentence lengtg = {}\".format(len(sentence)))\n",
    "    inputs = tokenizer(sentence, return_tensors=\"pt\", padding=True, truncation=True, max_length=MAX_LENGTH)\n",
    "    feature = outputs[1]\n",
    "    feature_list[name] = feature\n",
    "    # break\n",
    "\n",
    "with open('','wb') as feature:\n",
    "    pk.dump(feature_list,feature)"
   ]
  },
  {
   "cell_type": "code",
   "execution_count": null,
   "metadata": {},
   "outputs": [],
   "source": []
  }
 ],
 "metadata": {
  "kernelspec": {
   "display_name": "STG-NF",
   "language": "python",
   "name": "python3"
  },
  "language_info": {
   "codemirror_mode": {
    "name": "ipython",
    "version": 3
   },
   "file_extension": ".py",
   "mimetype": "text/x-python",
   "name": "python",
   "nbconvert_exporter": "python",
   "pygments_lexer": "ipython3",
   "version": "3.8.13"
  },
  "orig_nbformat": 4
 },
 "nbformat": 4,
 "nbformat_minor": 2
}
